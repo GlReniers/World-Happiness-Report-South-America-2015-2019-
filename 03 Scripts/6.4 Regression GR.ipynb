{
 "cells": [
  {
   "cell_type": "markdown",
   "id": "c0aada95",
   "metadata": {},
   "source": [
    "### Contents\n",
    "#### 1. Importing libraries and data\n",
    "#### 2. Data cleaning\n",
    "#### 3. Data prep for regression analysis\n",
    "#### 4. Regression analysis\n",
    "    Family vs Happiness\n",
    "    GDP vs GVT corruption\n",
    "    Health and happiness\n",
    "   "
   ]
  },
  {
   "cell_type": "markdown",
   "id": "050d6f4b",
   "metadata": {},
   "source": [
    "### Importing Libraries and Data"
   ]
  },
  {
   "cell_type": "code",
   "execution_count": 1,
   "id": "c6f7af80",
   "metadata": {},
   "outputs": [],
   "source": [
    "import pandas as pd\n",
    "import numpy as np\n",
    "import seaborn as sns\n",
    "import matplotlib\n",
    "import matplotlib.pyplot as plt\n",
    "import os\n",
    "import sklearn\n",
    "from sklearn.model_selection import train_test_split \n",
    "from sklearn.linear_model import LinearRegression\n",
    "from sklearn.metrics import mean_squared_error, r2_score"
   ]
  },
  {
   "cell_type": "code",
   "execution_count": 2,
   "id": "b8cfc02d",
   "metadata": {},
   "outputs": [],
   "source": [
    "# This option ensures that the graphs you create are displayed within the notebook without the need to \"call\" them specifically.\n",
    "\n",
    "%matplotlib inline"
   ]
  },
  {
   "cell_type": "code",
   "execution_count": 3,
   "id": "1c322baa",
   "metadata": {},
   "outputs": [
    {
     "data": {
      "text/plain": [
       "'/Users/gwynreniers/Documents/World Happiness Report'"
      ]
     },
     "execution_count": 3,
     "metadata": {},
     "output_type": "execute_result"
    }
   ],
   "source": [
    "#Creating Path\n",
    "path = r'/Users/gwynreniers/Documents/World Happiness Report'\n",
    "path"
   ]
  },
  {
   "cell_type": "code",
   "execution_count": 6,
   "id": "0eb4c160",
   "metadata": {},
   "outputs": [],
   "source": [
    "df = pd.read_csv(os.path.join(path,'world Happiness Report Continents.csv'),\n",
    "                      index_col = False)"
   ]
  },
  {
   "cell_type": "markdown",
   "id": "a95c0a4a",
   "metadata": {},
   "source": [
    "### Data Cleaning"
   ]
  },
  {
   "cell_type": "code",
   "execution_count": 41,
   "id": "75fb3bbb",
   "metadata": {},
   "outputs": [
    {
     "data": {
      "text/html": [
       "<div>\n",
       "<style scoped>\n",
       "    .dataframe tbody tr th:only-of-type {\n",
       "        vertical-align: middle;\n",
       "    }\n",
       "\n",
       "    .dataframe tbody tr th {\n",
       "        vertical-align: top;\n",
       "    }\n",
       "\n",
       "    .dataframe thead th {\n",
       "        text-align: right;\n",
       "    }\n",
       "</style>\n",
       "<table border=\"1\" class=\"dataframe\">\n",
       "  <thead>\n",
       "    <tr style=\"text-align: right;\">\n",
       "      <th></th>\n",
       "      <th>Unnamed: 0.1</th>\n",
       "      <th>Unnamed: 0</th>\n",
       "      <th>Year</th>\n",
       "      <th>Country</th>\n",
       "      <th>Happiness Rank</th>\n",
       "      <th>Happiness Score</th>\n",
       "      <th>Economy (GDP per Capita)</th>\n",
       "      <th>Family</th>\n",
       "      <th>Health (Life Expectancy)</th>\n",
       "      <th>Freedom</th>\n",
       "      <th>Trust (Government Corruption)</th>\n",
       "      <th>Generosity</th>\n",
       "      <th>Total_views</th>\n",
       "      <th>Continent</th>\n",
       "    </tr>\n",
       "  </thead>\n",
       "  <tbody>\n",
       "    <tr>\n",
       "      <th>0</th>\n",
       "      <td>15</td>\n",
       "      <td>15</td>\n",
       "      <td>2015</td>\n",
       "      <td>Brazil</td>\n",
       "      <td>16</td>\n",
       "      <td>6.983</td>\n",
       "      <td>0.98124</td>\n",
       "      <td>1.23287</td>\n",
       "      <td>0.69702</td>\n",
       "      <td>0.49049</td>\n",
       "      <td>0.17521</td>\n",
       "      <td>0.14574</td>\n",
       "      <td>111</td>\n",
       "      <td>South America</td>\n",
       "    </tr>\n",
       "    <tr>\n",
       "      <th>1</th>\n",
       "      <td>22</td>\n",
       "      <td>22</td>\n",
       "      <td>2015</td>\n",
       "      <td>Venezuela</td>\n",
       "      <td>23</td>\n",
       "      <td>6.810</td>\n",
       "      <td>1.04424</td>\n",
       "      <td>1.25596</td>\n",
       "      <td>0.72052</td>\n",
       "      <td>0.42908</td>\n",
       "      <td>0.11069</td>\n",
       "      <td>0.05841</td>\n",
       "      <td>353</td>\n",
       "      <td>South America</td>\n",
       "    </tr>\n",
       "    <tr>\n",
       "      <th>2</th>\n",
       "      <td>26</td>\n",
       "      <td>26</td>\n",
       "      <td>2015</td>\n",
       "      <td>Chile</td>\n",
       "      <td>27</td>\n",
       "      <td>6.670</td>\n",
       "      <td>1.10715</td>\n",
       "      <td>1.12447</td>\n",
       "      <td>0.85857</td>\n",
       "      <td>0.44132</td>\n",
       "      <td>0.12869</td>\n",
       "      <td>0.33363</td>\n",
       "      <td>121</td>\n",
       "      <td>South America</td>\n",
       "    </tr>\n",
       "    <tr>\n",
       "      <th>3</th>\n",
       "      <td>29</td>\n",
       "      <td>29</td>\n",
       "      <td>2015</td>\n",
       "      <td>Argentina</td>\n",
       "      <td>30</td>\n",
       "      <td>6.574</td>\n",
       "      <td>1.05351</td>\n",
       "      <td>1.24823</td>\n",
       "      <td>0.78723</td>\n",
       "      <td>0.44974</td>\n",
       "      <td>0.08484</td>\n",
       "      <td>0.11451</td>\n",
       "      <td>138</td>\n",
       "      <td>South America</td>\n",
       "    </tr>\n",
       "    <tr>\n",
       "      <th>4</th>\n",
       "      <td>31</td>\n",
       "      <td>31</td>\n",
       "      <td>2015</td>\n",
       "      <td>Uruguay</td>\n",
       "      <td>32</td>\n",
       "      <td>6.485</td>\n",
       "      <td>1.06166</td>\n",
       "      <td>1.20890</td>\n",
       "      <td>0.81160</td>\n",
       "      <td>0.60362</td>\n",
       "      <td>0.24558</td>\n",
       "      <td>0.23240</td>\n",
       "      <td>151</td>\n",
       "      <td>South America</td>\n",
       "    </tr>\n",
       "    <tr>\n",
       "      <th>5</th>\n",
       "      <td>32</td>\n",
       "      <td>32</td>\n",
       "      <td>2015</td>\n",
       "      <td>Colombia</td>\n",
       "      <td>33</td>\n",
       "      <td>6.477</td>\n",
       "      <td>0.91861</td>\n",
       "      <td>1.24018</td>\n",
       "      <td>0.69077</td>\n",
       "      <td>0.53466</td>\n",
       "      <td>0.05120</td>\n",
       "      <td>0.18401</td>\n",
       "      <td>174</td>\n",
       "      <td>South America</td>\n",
       "    </tr>\n",
       "    <tr>\n",
       "      <th>6</th>\n",
       "      <td>39</td>\n",
       "      <td>39</td>\n",
       "      <td>2015</td>\n",
       "      <td>Suriname</td>\n",
       "      <td>40</td>\n",
       "      <td>6.269</td>\n",
       "      <td>0.99534</td>\n",
       "      <td>0.97200</td>\n",
       "      <td>0.60820</td>\n",
       "      <td>0.59657</td>\n",
       "      <td>0.13633</td>\n",
       "      <td>0.16991</td>\n",
       "      <td>80</td>\n",
       "      <td>South America</td>\n",
       "    </tr>\n",
       "    <tr>\n",
       "      <th>7</th>\n",
       "      <td>47</td>\n",
       "      <td>47</td>\n",
       "      <td>2015</td>\n",
       "      <td>Ecuador</td>\n",
       "      <td>48</td>\n",
       "      <td>5.975</td>\n",
       "      <td>0.86402</td>\n",
       "      <td>0.99903</td>\n",
       "      <td>0.79075</td>\n",
       "      <td>0.48574</td>\n",
       "      <td>0.18090</td>\n",
       "      <td>0.11541</td>\n",
       "      <td>239</td>\n",
       "      <td>South America</td>\n",
       "    </tr>\n",
       "    <tr>\n",
       "      <th>8</th>\n",
       "      <td>50</td>\n",
       "      <td>50</td>\n",
       "      <td>2015</td>\n",
       "      <td>Bolivia</td>\n",
       "      <td>51</td>\n",
       "      <td>5.890</td>\n",
       "      <td>0.68133</td>\n",
       "      <td>0.97841</td>\n",
       "      <td>0.53920</td>\n",
       "      <td>0.57414</td>\n",
       "      <td>0.08800</td>\n",
       "      <td>0.20536</td>\n",
       "      <td>292</td>\n",
       "      <td>South America</td>\n",
       "    </tr>\n",
       "    <tr>\n",
       "      <th>9</th>\n",
       "      <td>52</td>\n",
       "      <td>52</td>\n",
       "      <td>2015</td>\n",
       "      <td>Paraguay</td>\n",
       "      <td>53</td>\n",
       "      <td>5.878</td>\n",
       "      <td>0.75985</td>\n",
       "      <td>1.30477</td>\n",
       "      <td>0.66098</td>\n",
       "      <td>0.53899</td>\n",
       "      <td>0.08242</td>\n",
       "      <td>0.34240</td>\n",
       "      <td>321</td>\n",
       "      <td>South America</td>\n",
       "    </tr>\n",
       "    <tr>\n",
       "      <th>10</th>\n",
       "      <td>57</td>\n",
       "      <td>57</td>\n",
       "      <td>2015</td>\n",
       "      <td>Peru</td>\n",
       "      <td>58</td>\n",
       "      <td>5.824</td>\n",
       "      <td>0.90019</td>\n",
       "      <td>0.97459</td>\n",
       "      <td>0.73017</td>\n",
       "      <td>0.41496</td>\n",
       "      <td>0.05989</td>\n",
       "      <td>0.14982</td>\n",
       "      <td>315</td>\n",
       "      <td>South America</td>\n",
       "    </tr>\n",
       "    <tr>\n",
       "      <th>11</th>\n",
       "      <td>174</td>\n",
       "      <td>16</td>\n",
       "      <td>2016</td>\n",
       "      <td>Brazil</td>\n",
       "      <td>17</td>\n",
       "      <td>6.952</td>\n",
       "      <td>1.08754</td>\n",
       "      <td>1.03938</td>\n",
       "      <td>0.61415</td>\n",
       "      <td>0.40425</td>\n",
       "      <td>0.14166</td>\n",
       "      <td>0.15776</td>\n",
       "      <td>111</td>\n",
       "      <td>South America</td>\n",
       "    </tr>\n",
       "    <tr>\n",
       "      <th>12</th>\n",
       "      <td>181</td>\n",
       "      <td>23</td>\n",
       "      <td>2016</td>\n",
       "      <td>Chile</td>\n",
       "      <td>24</td>\n",
       "      <td>6.705</td>\n",
       "      <td>1.21670</td>\n",
       "      <td>0.90587</td>\n",
       "      <td>0.81883</td>\n",
       "      <td>0.37789</td>\n",
       "      <td>0.11451</td>\n",
       "      <td>0.31595</td>\n",
       "      <td>121</td>\n",
       "      <td>South America</td>\n",
       "    </tr>\n",
       "    <tr>\n",
       "      <th>13</th>\n",
       "      <td>183</td>\n",
       "      <td>25</td>\n",
       "      <td>2016</td>\n",
       "      <td>Argentina</td>\n",
       "      <td>26</td>\n",
       "      <td>6.650</td>\n",
       "      <td>1.15137</td>\n",
       "      <td>1.06612</td>\n",
       "      <td>0.69711</td>\n",
       "      <td>0.42284</td>\n",
       "      <td>0.07296</td>\n",
       "      <td>0.10989</td>\n",
       "      <td>138</td>\n",
       "      <td>South America</td>\n",
       "    </tr>\n",
       "  </tbody>\n",
       "</table>\n",
       "</div>"
      ],
      "text/plain": [
       "    Unnamed: 0.1  Unnamed: 0  Year    Country  Happiness Rank  \\\n",
       "0             15          15  2015     Brazil              16   \n",
       "1             22          22  2015  Venezuela              23   \n",
       "2             26          26  2015      Chile              27   \n",
       "3             29          29  2015  Argentina              30   \n",
       "4             31          31  2015    Uruguay              32   \n",
       "5             32          32  2015   Colombia              33   \n",
       "6             39          39  2015   Suriname              40   \n",
       "7             47          47  2015    Ecuador              48   \n",
       "8             50          50  2015    Bolivia              51   \n",
       "9             52          52  2015   Paraguay              53   \n",
       "10            57          57  2015       Peru              58   \n",
       "11           174          16  2016     Brazil              17   \n",
       "12           181          23  2016      Chile              24   \n",
       "13           183          25  2016  Argentina              26   \n",
       "\n",
       "    Happiness Score  Economy (GDP per Capita)   Family  \\\n",
       "0             6.983                   0.98124  1.23287   \n",
       "1             6.810                   1.04424  1.25596   \n",
       "2             6.670                   1.10715  1.12447   \n",
       "3             6.574                   1.05351  1.24823   \n",
       "4             6.485                   1.06166  1.20890   \n",
       "5             6.477                   0.91861  1.24018   \n",
       "6             6.269                   0.99534  0.97200   \n",
       "7             5.975                   0.86402  0.99903   \n",
       "8             5.890                   0.68133  0.97841   \n",
       "9             5.878                   0.75985  1.30477   \n",
       "10            5.824                   0.90019  0.97459   \n",
       "11            6.952                   1.08754  1.03938   \n",
       "12            6.705                   1.21670  0.90587   \n",
       "13            6.650                   1.15137  1.06612   \n",
       "\n",
       "    Health (Life Expectancy)  Freedom  Trust (Government Corruption)  \\\n",
       "0                    0.69702  0.49049                        0.17521   \n",
       "1                    0.72052  0.42908                        0.11069   \n",
       "2                    0.85857  0.44132                        0.12869   \n",
       "3                    0.78723  0.44974                        0.08484   \n",
       "4                    0.81160  0.60362                        0.24558   \n",
       "5                    0.69077  0.53466                        0.05120   \n",
       "6                    0.60820  0.59657                        0.13633   \n",
       "7                    0.79075  0.48574                        0.18090   \n",
       "8                    0.53920  0.57414                        0.08800   \n",
       "9                    0.66098  0.53899                        0.08242   \n",
       "10                   0.73017  0.41496                        0.05989   \n",
       "11                   0.61415  0.40425                        0.14166   \n",
       "12                   0.81883  0.37789                        0.11451   \n",
       "13                   0.69711  0.42284                        0.07296   \n",
       "\n",
       "    Generosity  Total_views      Continent  \n",
       "0      0.14574          111  South America  \n",
       "1      0.05841          353  South America  \n",
       "2      0.33363          121  South America  \n",
       "3      0.11451          138  South America  \n",
       "4      0.23240          151  South America  \n",
       "5      0.18401          174  South America  \n",
       "6      0.16991           80  South America  \n",
       "7      0.11541          239  South America  \n",
       "8      0.20536          292  South America  \n",
       "9      0.34240          321  South America  \n",
       "10     0.14982          315  South America  \n",
       "11     0.15776          111  South America  \n",
       "12     0.31595          121  South America  \n",
       "13     0.10989          138  South America  "
      ]
     },
     "execution_count": 41,
     "metadata": {},
     "output_type": "execute_result"
    }
   ],
   "source": [
    "df.head(14)"
   ]
  },
  {
   "cell_type": "code",
   "execution_count": 8,
   "id": "fe1cab1d",
   "metadata": {},
   "outputs": [
    {
     "data": {
      "text/plain": [
       "(52, 14)"
      ]
     },
     "execution_count": 8,
     "metadata": {},
     "output_type": "execute_result"
    }
   ],
   "source": [
    "df.shape"
   ]
  },
  {
   "cell_type": "code",
   "execution_count": 9,
   "id": "cc009184",
   "metadata": {},
   "outputs": [
    {
     "data": {
      "text/plain": [
       "Unnamed: 0.1                     0\n",
       "Unnamed: 0                       0\n",
       "Year                             0\n",
       "Country                          0\n",
       "Happiness Rank                   0\n",
       "Happiness Score                  0\n",
       "Economy (GDP per Capita)         0\n",
       "Family                           0\n",
       "Health (Life Expectancy)         0\n",
       "Freedom                          0\n",
       "Trust (Government Corruption)    0\n",
       "Generosity                       0\n",
       "Total_views                      0\n",
       "Continent                        0\n",
       "dtype: int64"
      ]
     },
     "execution_count": 9,
     "metadata": {},
     "output_type": "execute_result"
    }
   ],
   "source": [
    "# Check for missing values\n",
    "df.isnull().sum()"
   ]
  },
  {
   "cell_type": "code",
   "execution_count": 11,
   "id": "3fd135c6",
   "metadata": {},
   "outputs": [
    {
     "name": "stderr",
     "output_type": "stream",
     "text": [
      "/opt/anaconda3/lib/python3.9/site-packages/seaborn/distributions.py:2619: FutureWarning: `distplot` is a deprecated function and will be removed in a future version. Please adapt your code to use either `displot` (a figure-level function with similar flexibility) or `histplot` (an axes-level function for histograms).\n",
      "  warnings.warn(msg, FutureWarning)\n"
     ]
    },
    {
     "data": {
      "text/plain": [
       "<AxesSubplot:xlabel='Happiness Score', ylabel='Density'>"
      ]
     },
     "execution_count": 11,
     "metadata": {},
     "output_type": "execute_result"
    },
    {
     "data": {
      "image/png": "[encoded data removed]",
      "text/plain": [
       "<Figure size 432x288 with 1 Axes>"
      ]
     },
     "metadata": {
      "needs_background": "light"
     },
     "output_type": "display_data"
    }
   ],
   "source": [
    "# Check for extreme values\n",
    "sns.distplot(df['Happiness Score'],bins = 25, kde = True)"
   ]
  },
  {
   "cell_type": "code",
   "execution_count": 12,
   "id": "00da4d8e",
   "metadata": {},
   "outputs": [
    {
     "data": {
      "text/plain": [
       "6.138076924250677"
      ]
     },
     "execution_count": 12,
     "metadata": {},
     "output_type": "execute_result"
    }
   ],
   "source": [
    "# Check Mean\n",
    "df['Happiness Score'].mean()"
   ]
  },
  {
   "cell_type": "code",
   "execution_count": 14,
   "id": "33af02b4",
   "metadata": {},
   "outputs": [
    {
     "data": {
      "text/plain": [
       "6.2645"
      ]
     },
     "execution_count": 14,
     "metadata": {},
     "output_type": "execute_result"
    }
   ],
   "source": [
    "# Check median\n",
    "df['Happiness Score'].median()"
   ]
  },
  {
   "cell_type": "code",
   "execution_count": 15,
   "id": "f40ecaf0",
   "metadata": {},
   "outputs": [
    {
     "data": {
      "text/plain": [
       "6.983"
      ]
     },
     "execution_count": 15,
     "metadata": {},
     "output_type": "execute_result"
    }
   ],
   "source": [
    "# Check max\n",
    "df['Happiness Score'].max()"
   ]
  },
  {
   "cell_type": "code",
   "execution_count": 16,
   "id": "c06c1e79",
   "metadata": {},
   "outputs": [
    {
     "data": {
      "text/plain": [
       "4.806"
      ]
     },
     "execution_count": 16,
     "metadata": {},
     "output_type": "execute_result"
    }
   ],
   "source": [
    "# Check min\n",
    "df['Happiness Score'].min()"
   ]
  },
  {
   "cell_type": "code",
   "execution_count": 17,
   "id": "20689791",
   "metadata": {},
   "outputs": [
    {
     "data": {
      "text/html": [
       "<div>\n",
       "<style scoped>\n",
       "    .dataframe tbody tr th:only-of-type {\n",
       "        vertical-align: middle;\n",
       "    }\n",
       "\n",
       "    .dataframe tbody tr th {\n",
       "        vertical-align: top;\n",
       "    }\n",
       "\n",
       "    .dataframe thead th {\n",
       "        text-align: right;\n",
       "    }\n",
       "</style>\n",
       "<table border=\"1\" class=\"dataframe\">\n",
       "  <thead>\n",
       "    <tr style=\"text-align: right;\">\n",
       "      <th></th>\n",
       "      <th>Unnamed: 0.1</th>\n",
       "      <th>Unnamed: 0</th>\n",
       "      <th>Year</th>\n",
       "      <th>Happiness Rank</th>\n",
       "      <th>Happiness Score</th>\n",
       "      <th>Economy (GDP per Capita)</th>\n",
       "      <th>Family</th>\n",
       "      <th>Health (Life Expectancy)</th>\n",
       "      <th>Freedom</th>\n",
       "      <th>Trust (Government Corruption)</th>\n",
       "      <th>Generosity</th>\n",
       "      <th>Total_views</th>\n",
       "    </tr>\n",
       "  </thead>\n",
       "  <tbody>\n",
       "    <tr>\n",
       "      <th>count</th>\n",
       "      <td>52.000000</td>\n",
       "      <td>52.000000</td>\n",
       "      <td>52.000000</td>\n",
       "      <td>52.000000</td>\n",
       "      <td>52.000000</td>\n",
       "      <td>52.000000</td>\n",
       "      <td>52.000000</td>\n",
       "      <td>52.000000</td>\n",
       "      <td>52.000000</td>\n",
       "      <td>52.000000</td>\n",
       "      <td>52.000000</td>\n",
       "      <td>52.000000</td>\n",
       "    </tr>\n",
       "    <tr>\n",
       "      <th>mean</th>\n",
       "      <td>347.903846</td>\n",
       "      <td>43.134615</td>\n",
       "      <td>2016.942308</td>\n",
       "      <td>44.134615</td>\n",
       "      <td>6.138077</td>\n",
       "      <td>0.999665</td>\n",
       "      <td>1.242426</td>\n",
       "      <td>0.671497</td>\n",
       "      <td>0.475292</td>\n",
       "      <td>0.093818</td>\n",
       "      <td>0.152642</td>\n",
       "      <td>216.057692</td>\n",
       "    </tr>\n",
       "    <tr>\n",
       "      <th>std</th>\n",
       "      <td>229.603858</td>\n",
       "      <td>20.394183</td>\n",
       "      <td>1.433677</td>\n",
       "      <td>20.394183</td>\n",
       "      <td>0.487803</td>\n",
       "      <td>0.132660</td>\n",
       "      <td>0.210205</td>\n",
       "      <td>0.093837</td>\n",
       "      <td>0.115297</td>\n",
       "      <td>0.049717</td>\n",
       "      <td>0.071586</td>\n",
       "      <td>91.513079</td>\n",
       "    </tr>\n",
       "    <tr>\n",
       "      <th>min</th>\n",
       "      <td>15.000000</td>\n",
       "      <td>15.000000</td>\n",
       "      <td>2015.000000</td>\n",
       "      <td>16.000000</td>\n",
       "      <td>4.806000</td>\n",
       "      <td>0.681330</td>\n",
       "      <td>0.778660</td>\n",
       "      <td>0.469700</td>\n",
       "      <td>0.133000</td>\n",
       "      <td>0.034000</td>\n",
       "      <td>0.042500</td>\n",
       "      <td>80.000000</td>\n",
       "    </tr>\n",
       "    <tr>\n",
       "      <th>25%</th>\n",
       "      <td>182.500000</td>\n",
       "      <td>27.000000</td>\n",
       "      <td>2016.000000</td>\n",
       "      <td>28.000000</td>\n",
       "      <td>5.804500</td>\n",
       "      <td>0.914005</td>\n",
       "      <td>1.059435</td>\n",
       "      <td>0.615000</td>\n",
       "      <td>0.431000</td>\n",
       "      <td>0.054000</td>\n",
       "      <td>0.109782</td>\n",
       "      <td>138.000000</td>\n",
       "    </tr>\n",
       "    <tr>\n",
       "      <th>50%</th>\n",
       "      <td>346.000000</td>\n",
       "      <td>37.500000</td>\n",
       "      <td>2017.000000</td>\n",
       "      <td>38.500000</td>\n",
       "      <td>6.264500</td>\n",
       "      <td>0.996010</td>\n",
       "      <td>1.252480</td>\n",
       "      <td>0.674500</td>\n",
       "      <td>0.493000</td>\n",
       "      <td>0.079874</td>\n",
       "      <td>0.145505</td>\n",
       "      <td>174.000000</td>\n",
       "    </tr>\n",
       "    <tr>\n",
       "      <th>75%</th>\n",
       "      <td>531.500000</td>\n",
       "      <td>58.750000</td>\n",
       "      <td>2018.000000</td>\n",
       "      <td>59.750000</td>\n",
       "      <td>6.478000</td>\n",
       "      <td>1.093965</td>\n",
       "      <td>1.439000</td>\n",
       "      <td>0.736000</td>\n",
       "      <td>0.546910</td>\n",
       "      <td>0.121730</td>\n",
       "      <td>0.181422</td>\n",
       "      <td>315.000000</td>\n",
       "    </tr>\n",
       "    <tr>\n",
       "      <th>max</th>\n",
       "      <td>727.000000</td>\n",
       "      <td>101.000000</td>\n",
       "      <td>2019.000000</td>\n",
       "      <td>102.000000</td>\n",
       "      <td>6.983000</td>\n",
       "      <td>1.252785</td>\n",
       "      <td>1.522000</td>\n",
       "      <td>0.858570</td>\n",
       "      <td>0.625000</td>\n",
       "      <td>0.245580</td>\n",
       "      <td>0.342400</td>\n",
       "      <td>353.000000</td>\n",
       "    </tr>\n",
       "  </tbody>\n",
       "</table>\n",
       "</div>"
      ],
      "text/plain": [
       "       Unnamed: 0.1  Unnamed: 0         Year  Happiness Rank  Happiness Score  \\\n",
       "count     52.000000   52.000000    52.000000       52.000000        52.000000   \n",
       "mean     347.903846   43.134615  2016.942308       44.134615         6.138077   \n",
       "std      229.603858   20.394183     1.433677       20.394183         0.487803   \n",
       "min       15.000000   15.000000  2015.000000       16.000000         4.806000   \n",
       "25%      182.500000   27.000000  2016.000000       28.000000         5.804500   \n",
       "50%      346.000000   37.500000  2017.000000       38.500000         6.264500   \n",
       "75%      531.500000   58.750000  2018.000000       59.750000         6.478000   \n",
       "max      727.000000  101.000000  2019.000000      102.000000         6.983000   \n",
       "\n",
       "       Economy (GDP per Capita)     Family  Health (Life Expectancy)  \\\n",
       "count                 52.000000  52.000000                 52.000000   \n",
       "mean                   0.999665   1.242426                  0.671497   \n",
       "std                    0.132660   0.210205                  0.093837   \n",
       "min                    0.681330   0.778660                  0.469700   \n",
       "25%                    0.914005   1.059435                  0.615000   \n",
       "50%                    0.996010   1.252480                  0.674500   \n",
       "75%                    1.093965   1.439000                  0.736000   \n",
       "max                    1.252785   1.522000                  0.858570   \n",
       "\n",
       "         Freedom  Trust (Government Corruption)  Generosity  Total_views  \n",
       "count  52.000000                      52.000000   52.000000    52.000000  \n",
       "mean    0.475292                       0.093818    0.152642   216.057692  \n",
       "std     0.115297                       0.049717    0.071586    91.513079  \n",
       "min     0.133000                       0.034000    0.042500    80.000000  \n",
       "25%     0.431000                       0.054000    0.109782   138.000000  \n",
       "50%     0.493000                       0.079874    0.145505   174.000000  \n",
       "75%     0.546910                       0.121730    0.181422   315.000000  \n",
       "max     0.625000                       0.245580    0.342400   353.000000  "
      ]
     },
     "execution_count": 17,
     "metadata": {},
     "output_type": "execute_result"
    }
   ],
   "source": [
    "df.describe()"
   ]
  },
  {
   "cell_type": "markdown",
   "id": "4f741905",
   "metadata": {},
   "source": [
    "### Data prep for regression analysis"
   ]
  },
  {
   "cell_type": "markdown",
   "id": "127ac56f",
   "metadata": {},
   "source": [
    "#### Hypothesis 1: If a country has a higher family score, it will have a higher happiness score."
   ]
  },
  {
   "cell_type": "code",
   "execution_count": 18,
   "id": "8f2c5d71",
   "metadata": {},
   "outputs": [
    {
     "data": {
      "image/png": "[encoded data removed]",
      "text/plain": [
       "<Figure size 432x288 with 1 Axes>"
      ]
     },
     "metadata": {
      "needs_background": "light"
     },
     "output_type": "display_data"
    }
   ],
   "source": [
    "# Create a scatterplot using matplotlib for another look at how the chosen variables plot against each other.\n",
    "\n",
    "df.plot(x = 'Happiness Score', y='Family',style='o') # The style option creates a scatterplot; without it, we only have lines.\n",
    "plt.title('Happiness Score vs Family Score')  \n",
    "plt.xlabel('Happiness Score')  \n",
    "plt.ylabel('Family Score')  \n",
    "plt.show()"
   ]
  },
  {
   "cell_type": "code",
   "execution_count": 20,
   "id": "2276516f",
   "metadata": {},
   "outputs": [],
   "source": [
    "# Reshape the variables into NumPy arrays and put them into separate objects.\n",
    "X = df['Happiness Score'].values.reshape(-1,1)\n",
    "y = df['Family'].values.reshape(-1,1)"
   ]
  },
  {
   "cell_type": "code",
   "execution_count": 21,
   "id": "f073f86e",
   "metadata": {},
   "outputs": [
    {
     "data": {
      "text/plain": [
       "array([[6.983     ],\n",
       "       [6.81      ],\n",
       "       [6.67      ],\n",
       "       [6.574     ],\n",
       "       [6.485     ],\n",
       "       [6.477     ],\n",
       "       [6.269     ],\n",
       "       [5.975     ],\n",
       "       [5.89      ],\n",
       "       [5.878     ],\n",
       "       [5.824     ],\n",
       "       [6.952     ],\n",
       "       [6.705     ],\n",
       "       [6.65      ],\n",
       "       [6.545     ],\n",
       "       [6.481     ],\n",
       "       [6.269     ],\n",
       "       [6.084     ],\n",
       "       [5.976     ],\n",
       "       [5.822     ],\n",
       "       [5.743     ],\n",
       "       [5.538     ],\n",
       "       [6.65199995],\n",
       "       [6.63500023],\n",
       "       [6.59899998],\n",
       "       [6.454     ],\n",
       "       [6.35699987],\n",
       "       [6.0079999 ],\n",
       "       [5.82299995],\n",
       "       [5.71500015],\n",
       "       [5.49300003],\n",
       "       [5.25      ],\n",
       "       [6.476     ],\n",
       "       [6.419     ],\n",
       "       [6.388     ],\n",
       "       [6.379     ],\n",
       "       [6.26      ],\n",
       "       [5.973     ],\n",
       "       [5.752     ],\n",
       "       [5.681     ],\n",
       "       [5.663     ],\n",
       "       [4.806     ],\n",
       "       [6.476     ],\n",
       "       [6.419     ],\n",
       "       [6.388     ],\n",
       "       [6.379     ],\n",
       "       [6.26      ],\n",
       "       [5.973     ],\n",
       "       [5.752     ],\n",
       "       [5.681     ],\n",
       "       [5.663     ],\n",
       "       [4.806     ]])"
      ]
     },
     "execution_count": 21,
     "metadata": {},
     "output_type": "execute_result"
    }
   ],
   "source": [
    "X"
   ]
  },
  {
   "cell_type": "code",
   "execution_count": 22,
   "id": "7d690542",
   "metadata": {},
   "outputs": [
    {
     "data": {
      "text/plain": [
       "array([[1.23287   ],\n",
       "       [1.25596   ],\n",
       "       [1.12447   ],\n",
       "       [1.24823   ],\n",
       "       [1.2089    ],\n",
       "       [1.24018   ],\n",
       "       [0.972     ],\n",
       "       [0.99903   ],\n",
       "       [0.97841   ],\n",
       "       [1.30477   ],\n",
       "       [0.97459   ],\n",
       "       [1.03938   ],\n",
       "       [0.90587   ],\n",
       "       [1.06612   ],\n",
       "       [1.03143   ],\n",
       "       [1.02169   ],\n",
       "       [0.77866   ],\n",
       "       [1.03302   ],\n",
       "       [0.85974   ],\n",
       "       [0.83779   ],\n",
       "       [0.81255   ],\n",
       "       [1.11111   ],\n",
       "       [1.28402495],\n",
       "       [1.431306  ],\n",
       "       [1.44045115],\n",
       "       [1.41222787],\n",
       "       [1.40218294],\n",
       "       [1.28616881],\n",
       "       [1.22761905],\n",
       "       [1.21877038],\n",
       "       [1.50728488],\n",
       "       [1.43133759],\n",
       "       [1.331     ],\n",
       "       [1.474     ],\n",
       "       [1.468     ],\n",
       "       [1.459     ],\n",
       "       [1.439     ],\n",
       "       [1.33      ],\n",
       "       [1.223     ],\n",
       "       [1.522     ],\n",
       "       [1.249     ],\n",
       "       [1.469     ],\n",
       "       [1.331     ],\n",
       "       [1.474     ],\n",
       "       [1.468     ],\n",
       "       [1.459     ],\n",
       "       [1.439     ],\n",
       "       [1.33      ],\n",
       "       [1.223     ],\n",
       "       [1.522     ],\n",
       "       [1.249     ],\n",
       "       [1.469     ]])"
      ]
     },
     "execution_count": 22,
     "metadata": {},
     "output_type": "execute_result"
    }
   ],
   "source": [
    "y"
   ]
  },
  {
   "cell_type": "code",
   "execution_count": 23,
   "id": "bc62bd2e",
   "metadata": {},
   "outputs": [],
   "source": [
    "# Split data into a training set and a test set.  Using test_train_split\n",
    "X_train,X_test,y_train,y_test = train_test_split(X,y,test_size = 0.3,random_state = 0)"
   ]
  },
  {
   "cell_type": "markdown",
   "id": "45c58770",
   "metadata": {},
   "source": [
    "### 4. Regression Analysis"
   ]
  },
  {
   "cell_type": "code",
   "execution_count": 24,
   "id": "aa1f650c",
   "metadata": {},
   "outputs": [],
   "source": [
    "# Create regression object\n",
    "regression = LinearRegression()"
   ]
  },
  {
   "cell_type": "code",
   "execution_count": 25,
   "id": "29657265",
   "metadata": {},
   "outputs": [
    {
     "data": {
      "text/plain": [
       "LinearRegression()"
      ]
     },
     "execution_count": 25,
     "metadata": {},
     "output_type": "execute_result"
    }
   ],
   "source": [
    "# Fit the regression to the training set of each variable.  This trains the model.\n",
    "regression.fit(X_train, y_train)"
   ]
  },
  {
   "cell_type": "code",
   "execution_count": 26,
   "id": "8406b317",
   "metadata": {},
   "outputs": [],
   "source": [
    "# Apply model to x_test data to predict y values\n",
    "y_predicted = regression.predict(X_test)"
   ]
  },
  {
   "cell_type": "code",
   "execution_count": 31,
   "id": "bb8f1d8c",
   "metadata": {},
   "outputs": [
    {
     "data": {
      "image/png": "[encoded data removed]",
      "text/plain": [
       "<Figure size 432x288 with 1 Axes>"
      ]
     },
     "metadata": {
      "needs_background": "light"
     },
     "output_type": "display_data"
    }
   ],
   "source": [
    "# Create a plot that shows the regression line from the model on the test set.\n",
    "plot_test = plt\n",
    "plot_test.scatter(X_test, y_test, color='gray', s = 15)\n",
    "plot_test.plot(X_test, y_predicted, color='Orange', linewidth =3)\n",
    "plot_test.title('Happiness Score vs Family (Test set)')\n",
    "plot_test.xlabel('Happiness Score')\n",
    "plot_test.ylabel('Family Score')\n",
    "plot_test.show()"
   ]
  },
  {
   "cell_type": "markdown",
   "id": "97db4770",
   "metadata": {},
   "source": [
    "#### The line does not fit the data very well.  This can be seen by the distance of the data points to the line. Indicating we do not have a linear relationship between the variables."
   ]
  },
  {
   "cell_type": "code",
   "execution_count": 28,
   "id": "088182d1",
   "metadata": {},
   "outputs": [],
   "source": [
    "# Check the slope, MSE and R2 score.\n",
    "# Create objects that contain the model summary statistics.\n",
    "rmse = mean_squared_error(y_test, y_predicted)\n",
    "r2 = r2_score(y_test, y_predicted)"
   ]
  },
  {
   "cell_type": "code",
   "execution_count": 29,
   "id": "ffaa3254",
   "metadata": {},
   "outputs": [
    {
     "name": "stdout",
     "output_type": "stream",
     "text": [
      "Slope: [[-0.04213878]]\n",
      "Mean squared error:  0.025715940373819607\n",
      "R2 score:  -0.15209406096269373\n"
     ]
    }
   ],
   "source": [
    "# Print the model summary statistics. This is where you evaluate the performance of the model.\n",
    "\n",
    "print('Slope:' ,regression.coef_)\n",
    "print('Mean squared error: ', rmse)\n",
    "print('R2 score: ', r2)"
   ]
  },
  {
   "cell_type": "code",
   "execution_count": 30,
   "id": "6b38edb6",
   "metadata": {},
   "outputs": [
    {
     "data": {
      "text/html": [
       "<div>\n",
       "<style scoped>\n",
       "    .dataframe tbody tr th:only-of-type {\n",
       "        vertical-align: middle;\n",
       "    }\n",
       "\n",
       "    .dataframe tbody tr th {\n",
       "        vertical-align: top;\n",
       "    }\n",
       "\n",
       "    .dataframe thead th {\n",
       "        text-align: right;\n",
       "    }\n",
       "</style>\n",
       "<table border=\"1\" class=\"dataframe\">\n",
       "  <thead>\n",
       "    <tr style=\"text-align: right;\">\n",
       "      <th></th>\n",
       "      <th>Actual</th>\n",
       "      <th>Predicted</th>\n",
       "    </tr>\n",
       "  </thead>\n",
       "  <tbody>\n",
       "    <tr>\n",
       "      <th>0</th>\n",
       "      <td>1.227619</td>\n",
       "      <td>1.235150</td>\n",
       "    </tr>\n",
       "    <tr>\n",
       "      <th>1</th>\n",
       "      <td>1.330000</td>\n",
       "      <td>1.228830</td>\n",
       "    </tr>\n",
       "    <tr>\n",
       "      <th>2</th>\n",
       "      <td>1.039380</td>\n",
       "      <td>1.187576</td>\n",
       "    </tr>\n",
       "    <tr>\n",
       "      <th>3</th>\n",
       "      <td>1.468000</td>\n",
       "      <td>1.211342</td>\n",
       "    </tr>\n",
       "    <tr>\n",
       "      <th>4</th>\n",
       "      <td>1.124470</td>\n",
       "      <td>1.199459</td>\n",
       "    </tr>\n",
       "    <tr>\n",
       "      <th>5</th>\n",
       "      <td>1.507285</td>\n",
       "      <td>1.249056</td>\n",
       "    </tr>\n",
       "    <tr>\n",
       "      <th>6</th>\n",
       "      <td>1.249000</td>\n",
       "      <td>1.241893</td>\n",
       "    </tr>\n",
       "    <tr>\n",
       "      <th>7</th>\n",
       "      <td>1.331000</td>\n",
       "      <td>1.207634</td>\n",
       "    </tr>\n",
       "    <tr>\n",
       "      <th>8</th>\n",
       "      <td>1.402183</td>\n",
       "      <td>1.212648</td>\n",
       "    </tr>\n",
       "    <tr>\n",
       "      <th>9</th>\n",
       "      <td>1.208900</td>\n",
       "      <td>1.207255</td>\n",
       "    </tr>\n",
       "    <tr>\n",
       "      <th>10</th>\n",
       "      <td>0.974590</td>\n",
       "      <td>1.235108</td>\n",
       "    </tr>\n",
       "    <tr>\n",
       "      <th>11</th>\n",
       "      <td>1.284025</td>\n",
       "      <td>1.200217</td>\n",
       "    </tr>\n",
       "    <tr>\n",
       "      <th>12</th>\n",
       "      <td>1.431338</td>\n",
       "      <td>1.259296</td>\n",
       "    </tr>\n",
       "    <tr>\n",
       "      <th>13</th>\n",
       "      <td>1.218770</td>\n",
       "      <td>1.239701</td>\n",
       "    </tr>\n",
       "    <tr>\n",
       "      <th>14</th>\n",
       "      <td>1.331000</td>\n",
       "      <td>1.207634</td>\n",
       "    </tr>\n",
       "    <tr>\n",
       "      <th>15</th>\n",
       "      <td>1.474000</td>\n",
       "      <td>1.210036</td>\n",
       "    </tr>\n",
       "  </tbody>\n",
       "</table>\n",
       "</div>"
      ],
      "text/plain": [
       "      Actual  Predicted\n",
       "0   1.227619   1.235150\n",
       "1   1.330000   1.228830\n",
       "2   1.039380   1.187576\n",
       "3   1.468000   1.211342\n",
       "4   1.124470   1.199459\n",
       "5   1.507285   1.249056\n",
       "6   1.249000   1.241893\n",
       "7   1.331000   1.207634\n",
       "8   1.402183   1.212648\n",
       "9   1.208900   1.207255\n",
       "10  0.974590   1.235108\n",
       "11  1.284025   1.200217\n",
       "12  1.431338   1.259296\n",
       "13  1.218770   1.239701\n",
       "14  1.331000   1.207634\n",
       "15  1.474000   1.210036"
      ]
     },
     "execution_count": 30,
     "metadata": {},
     "output_type": "execute_result"
    }
   ],
   "source": [
    "# Create a dataframe comparing the actual and predicted values of y.\n",
    "\n",
    "data = pd.DataFrame({'Actual': y_test.flatten(), 'Predicted': y_predicted.flatten()})\n",
    "data.head(30)"
   ]
  },
  {
   "cell_type": "markdown",
   "id": "f483ab2d",
   "metadata": {},
   "source": [
    " #### The line does not fit the data very well.  This can be seen by the distance of the data points to the line. Indicating we do not have a linear relationship between the variables."
   ]
  },
  {
   "cell_type": "code",
   "execution_count": 32,
   "id": "dcab5e4a",
   "metadata": {},
   "outputs": [],
   "source": [
    "# Check the slope, MSE and R2 score.\n",
    "# Create objects that contain the model summary statistics.\n",
    "rmse = mean_squared_error(y_test, y_predicted)\n",
    "r2 = r2_score(y_test, y_predicted)"
   ]
  },
  {
   "cell_type": "code",
   "execution_count": 33,
   "id": "5cb8dcbb",
   "metadata": {},
   "outputs": [
    {
     "name": "stdout",
     "output_type": "stream",
     "text": [
      "Slope: [[-0.04213878]]\n",
      "Mean squared error:  0.025715940373819607\n",
      "R2 score:  -0.15209406096269373\n"
     ]
    }
   ],
   "source": [
    "# Print the model summary statistics. This is where you evaluate the performance of the model.\n",
    "\n",
    "print('Slope:' ,regression.coef_)\n",
    "print('Mean squared error: ', rmse)\n",
    "print('R2 score: ', r2)"
   ]
  },
  {
   "cell_type": "code",
   "execution_count": 34,
   "id": "20c6e993",
   "metadata": {},
   "outputs": [
    {
     "data": {
      "text/html": [
       "<div>\n",
       "<style scoped>\n",
       "    .dataframe tbody tr th:only-of-type {\n",
       "        vertical-align: middle;\n",
       "    }\n",
       "\n",
       "    .dataframe tbody tr th {\n",
       "        vertical-align: top;\n",
       "    }\n",
       "\n",
       "    .dataframe thead th {\n",
       "        text-align: right;\n",
       "    }\n",
       "</style>\n",
       "<table border=\"1\" class=\"dataframe\">\n",
       "  <thead>\n",
       "    <tr style=\"text-align: right;\">\n",
       "      <th></th>\n",
       "      <th>Actual</th>\n",
       "      <th>Predicted</th>\n",
       "    </tr>\n",
       "  </thead>\n",
       "  <tbody>\n",
       "    <tr>\n",
       "      <th>0</th>\n",
       "      <td>1.227619</td>\n",
       "      <td>1.235150</td>\n",
       "    </tr>\n",
       "    <tr>\n",
       "      <th>1</th>\n",
       "      <td>1.330000</td>\n",
       "      <td>1.228830</td>\n",
       "    </tr>\n",
       "    <tr>\n",
       "      <th>2</th>\n",
       "      <td>1.039380</td>\n",
       "      <td>1.187576</td>\n",
       "    </tr>\n",
       "    <tr>\n",
       "      <th>3</th>\n",
       "      <td>1.468000</td>\n",
       "      <td>1.211342</td>\n",
       "    </tr>\n",
       "    <tr>\n",
       "      <th>4</th>\n",
       "      <td>1.124470</td>\n",
       "      <td>1.199459</td>\n",
       "    </tr>\n",
       "    <tr>\n",
       "      <th>5</th>\n",
       "      <td>1.507285</td>\n",
       "      <td>1.249056</td>\n",
       "    </tr>\n",
       "    <tr>\n",
       "      <th>6</th>\n",
       "      <td>1.249000</td>\n",
       "      <td>1.241893</td>\n",
       "    </tr>\n",
       "    <tr>\n",
       "      <th>7</th>\n",
       "      <td>1.331000</td>\n",
       "      <td>1.207634</td>\n",
       "    </tr>\n",
       "    <tr>\n",
       "      <th>8</th>\n",
       "      <td>1.402183</td>\n",
       "      <td>1.212648</td>\n",
       "    </tr>\n",
       "    <tr>\n",
       "      <th>9</th>\n",
       "      <td>1.208900</td>\n",
       "      <td>1.207255</td>\n",
       "    </tr>\n",
       "    <tr>\n",
       "      <th>10</th>\n",
       "      <td>0.974590</td>\n",
       "      <td>1.235108</td>\n",
       "    </tr>\n",
       "    <tr>\n",
       "      <th>11</th>\n",
       "      <td>1.284025</td>\n",
       "      <td>1.200217</td>\n",
       "    </tr>\n",
       "    <tr>\n",
       "      <th>12</th>\n",
       "      <td>1.431338</td>\n",
       "      <td>1.259296</td>\n",
       "    </tr>\n",
       "    <tr>\n",
       "      <th>13</th>\n",
       "      <td>1.218770</td>\n",
       "      <td>1.239701</td>\n",
       "    </tr>\n",
       "    <tr>\n",
       "      <th>14</th>\n",
       "      <td>1.331000</td>\n",
       "      <td>1.207634</td>\n",
       "    </tr>\n",
       "    <tr>\n",
       "      <th>15</th>\n",
       "      <td>1.474000</td>\n",
       "      <td>1.210036</td>\n",
       "    </tr>\n",
       "  </tbody>\n",
       "</table>\n",
       "</div>"
      ],
      "text/plain": [
       "      Actual  Predicted\n",
       "0   1.227619   1.235150\n",
       "1   1.330000   1.228830\n",
       "2   1.039380   1.187576\n",
       "3   1.468000   1.211342\n",
       "4   1.124470   1.199459\n",
       "5   1.507285   1.249056\n",
       "6   1.249000   1.241893\n",
       "7   1.331000   1.207634\n",
       "8   1.402183   1.212648\n",
       "9   1.208900   1.207255\n",
       "10  0.974590   1.235108\n",
       "11  1.284025   1.200217\n",
       "12  1.431338   1.259296\n",
       "13  1.218770   1.239701\n",
       "14  1.331000   1.207634\n",
       "15  1.474000   1.210036"
      ]
     },
     "execution_count": 34,
     "metadata": {},
     "output_type": "execute_result"
    }
   ],
   "source": [
    "# Create a dataframe comparing the actual and predicted values of y.\n",
    "\n",
    "data = pd.DataFrame({'Actual': y_test.flatten(), 'Predicted': y_predicted.flatten()})\n",
    "data.head(30)"
   ]
  },
  {
   "cell_type": "markdown",
   "id": "11408df3",
   "metadata": {},
   "source": [
    "#### The summary statistics of the model confirm that the model is inaccurate.  Which can also be seen by the variance in the actual vs prdicted values.  An R2 score of -0.15  indicates a very poor fit even though I have a small MSE.  The slope of -0.04 shows that as family score increases happiness score drops. So family is not as strong as predictor in happiness in South America as I thought."
   ]
  },
  {
   "cell_type": "markdown",
   "id": "4afa7ec1",
   "metadata": {},
   "source": [
    "### Compare how the regression fits the training set"
   ]
  },
  {
   "cell_type": "code",
   "execution_count": 35,
   "id": "ccdb9afc",
   "metadata": {},
   "outputs": [],
   "source": [
    "# Predict on the training set\n",
    "\n",
    "y_predicted_train = regression.predict(X_train) # This is predicting X_train!"
   ]
  },
  {
   "cell_type": "code",
   "execution_count": 36,
   "id": "80ca3c81",
   "metadata": {},
   "outputs": [],
   "source": [
    "rmse = mean_squared_error(y_train, y_predicted_train)\n",
    "r2 = r2_score(y_train, y_predicted_train)"
   ]
  },
  {
   "cell_type": "code",
   "execution_count": 37,
   "id": "bfeb8316",
   "metadata": {},
   "outputs": [
    {
     "name": "stdout",
     "output_type": "stream",
     "text": [
      "Slope: [[-0.04213878]]\n",
      "Mean squared error:  0.05094524046192909\n",
      "R2 score:  0.008208793517918367\n"
     ]
    }
   ],
   "source": [
    "print('Slope:' ,regression.coef_)\n",
    "print('Mean squared error: ', rmse)\n",
    "print('R2 score: ', r2)"
   ]
  },
  {
   "cell_type": "code",
   "execution_count": 38,
   "id": "e15242d1",
   "metadata": {},
   "outputs": [
    {
     "data": {
      "image/png": "[encoded data removed]",
      "text/plain": [
       "<Figure size 432x288 with 1 Axes>"
      ]
     },
     "metadata": {
      "needs_background": "light"
     },
     "output_type": "display_data"
    }
   ],
   "source": [
    "plot_test = plt\n",
    "plot_test.scatter(X_train, y_train, color='blue', s = 15)\n",
    "plot_test.plot(X_train, y_predicted_train, color='gray', linewidth =3)\n",
    "plot_test.title('Happiness Score vs Family (Train set)')\n",
    "plot_test.xlabel('Happiness Score')\n",
    "plot_test.ylabel('Family Score')\n",
    "plot_test.show()"
   ]
  },
  {
   "cell_type": "markdown",
   "id": "8e5ca2ce",
   "metadata": {},
   "source": [
    "#### The models outcome on the training set is very similar to that on the test set.  Although the MSE was a little larger on this set.  This confirming that this is not a good model to use.  This disproves my orgional idea that a higher family score will increase happines score."
   ]
  },
  {
   "cell_type": "markdown",
   "id": "ac0ab615",
   "metadata": {},
   "source": [
    "### Regression on df on GDP and Happiness"
   ]
  },
  {
   "cell_type": "code",
   "execution_count": 91,
   "id": "a8c2e91c",
   "metadata": {},
   "outputs": [
    {
     "data": {
      "text/plain": [
       "0     0.981240\n",
       "1     1.044240\n",
       "2     1.107150\n",
       "3     1.053510\n",
       "4     1.061660\n",
       "5     0.918610\n",
       "6     0.995340\n",
       "7     0.864020\n",
       "8     0.681330\n",
       "9     0.759850\n",
       "10    0.900190\n",
       "11    1.087540\n",
       "12    1.216700\n",
       "13    1.151370\n",
       "14    1.181570\n",
       "15    1.030320\n",
       "16    1.096860\n",
       "17    1.133670\n",
       "18    0.973060\n",
       "19    0.794220\n",
       "20    0.996020\n",
       "21    0.893730\n",
       "22    1.252785\n",
       "23    1.107353\n",
       "24    1.185295\n",
       "25    1.217560\n",
       "26    1.070622\n",
       "27    1.000820\n",
       "28    0.833757\n",
       "29    1.035225\n",
       "30    0.932537\n",
       "31    1.128431\n",
       "32    1.131000\n",
       "33    0.986000\n",
       "34    1.073000\n",
       "35    1.093000\n",
       "36    0.960000\n",
       "37    0.889000\n",
       "38    0.751000\n",
       "39    0.835000\n",
       "40    0.934000\n",
       "41    0.996000\n",
       "42    1.131000\n",
       "43    0.986000\n",
       "44    1.073000\n",
       "45    1.093000\n",
       "46    0.960000\n",
       "47    0.889000\n",
       "48    0.751000\n",
       "49    0.835000\n",
       "50    0.934000\n",
       "51    0.996000\n",
       "Name: Economy (GDP per Capita), dtype: float64"
      ]
     },
     "execution_count": 91,
     "metadata": {},
     "output_type": "execute_result"
    }
   ],
   "source": [
    "df2 = df['Economy (GDP per Capita)']\n",
    "df2"
   ]
  },
  {
   "cell_type": "code",
   "execution_count": 92,
   "id": "470bfc87",
   "metadata": {},
   "outputs": [
    {
     "data": {
      "text/plain": [
       "count    52.000000\n",
       "mean      0.999665\n",
       "std       0.132660\n",
       "min       0.681330\n",
       "25%       0.914005\n",
       "50%       0.996010\n",
       "75%       1.093965\n",
       "max       1.252785\n",
       "Name: Economy (GDP per Capita), dtype: float64"
      ]
     },
     "execution_count": 92,
     "metadata": {},
     "output_type": "execute_result"
    }
   ],
   "source": [
    "df2.describe()"
   ]
  },
  {
   "cell_type": "code",
   "execution_count": 96,
   "id": "fc9eeb12",
   "metadata": {},
   "outputs": [
    {
     "data": {
      "image/png": "[encoded data removed]",
      "text/plain": [
       "<Figure size 432x288 with 1 Axes>"
      ]
     },
     "metadata": {
      "needs_background": "light"
     },
     "output_type": "display_data"
    }
   ],
   "source": [
    "# Create a scatterplot using matplotlib for another look at how the chosen variables plot against each other.\n",
    "\n",
    "df2.plot(x = 'Happiness Score', y='Economy (GDP per Capita)',style='o') # The style option creates a scatterplot; without it, we only have lines.\n",
    "plt.title('Happiness vs Economy (GDP per Capita)')  \n",
    "plt.xlabel('Happiness Score')  \n",
    "plt.ylabel('Economy (GDP per Capita)')  \n",
    "plt.show()"
   ]
  },
  {
   "cell_type": "code",
   "execution_count": 97,
   "id": "9c433e15",
   "metadata": {},
   "outputs": [
    {
     "ename": "KeyError",
     "evalue": "'Happiness Score'",
     "output_type": "error",
     "traceback": [
      "\u001b[0;31m---------------------------------------------------------------------------\u001b[0m",
      "\u001b[0;31mKeyError\u001b[0m                                  Traceback (most recent call last)",
      "Input \u001b[0;32mIn [97]\u001b[0m, in \u001b[0;36m<cell line: 2>\u001b[0;34m()\u001b[0m\n\u001b[1;32m      1\u001b[0m \u001b[38;5;66;03m# Reshape the variables into NumPy arrays and put them into separate objects.\u001b[39;00m\n\u001b[0;32m----> 2\u001b[0m X \u001b[38;5;241m=\u001b[39m \u001b[43mdf2\u001b[49m\u001b[43m[\u001b[49m\u001b[38;5;124;43m'\u001b[39;49m\u001b[38;5;124;43mHappiness Score\u001b[39;49m\u001b[38;5;124;43m'\u001b[39;49m\u001b[43m]\u001b[49m\u001b[38;5;241m.\u001b[39mvalues\u001b[38;5;241m.\u001b[39mreshape(\u001b[38;5;241m-\u001b[39m\u001b[38;5;241m1\u001b[39m,\u001b[38;5;241m1\u001b[39m)\n\u001b[1;32m      3\u001b[0m y \u001b[38;5;241m=\u001b[39m df2[\u001b[38;5;124m'\u001b[39m\u001b[38;5;124mEconomy (GDP per Capita)\u001b[39m\u001b[38;5;124m'\u001b[39m]\u001b[38;5;241m.\u001b[39mvalues\u001b[38;5;241m.\u001b[39mreshape(\u001b[38;5;241m-\u001b[39m\u001b[38;5;241m1\u001b[39m,\u001b[38;5;241m1\u001b[39m)\n",
      "File \u001b[0;32m/opt/anaconda3/lib/python3.9/site-packages/pandas/core/series.py:958\u001b[0m, in \u001b[0;36mSeries.__getitem__\u001b[0;34m(self, key)\u001b[0m\n\u001b[1;32m    955\u001b[0m     \u001b[38;5;28;01mreturn\u001b[39;00m \u001b[38;5;28mself\u001b[39m\u001b[38;5;241m.\u001b[39m_values[key]\n\u001b[1;32m    957\u001b[0m \u001b[38;5;28;01melif\u001b[39;00m key_is_scalar:\n\u001b[0;32m--> 958\u001b[0m     \u001b[38;5;28;01mreturn\u001b[39;00m \u001b[38;5;28;43mself\u001b[39;49m\u001b[38;5;241;43m.\u001b[39;49m\u001b[43m_get_value\u001b[49m\u001b[43m(\u001b[49m\u001b[43mkey\u001b[49m\u001b[43m)\u001b[49m\n\u001b[1;32m    960\u001b[0m \u001b[38;5;28;01mif\u001b[39;00m is_hashable(key):\n\u001b[1;32m    961\u001b[0m     \u001b[38;5;66;03m# Otherwise index.get_value will raise InvalidIndexError\u001b[39;00m\n\u001b[1;32m    962\u001b[0m     \u001b[38;5;28;01mtry\u001b[39;00m:\n\u001b[1;32m    963\u001b[0m         \u001b[38;5;66;03m# For labels that don't resolve as scalars like tuples and frozensets\u001b[39;00m\n",
      "File \u001b[0;32m/opt/anaconda3/lib/python3.9/site-packages/pandas/core/series.py:1069\u001b[0m, in \u001b[0;36mSeries._get_value\u001b[0;34m(self, label, takeable)\u001b[0m\n\u001b[1;32m   1066\u001b[0m     \u001b[38;5;28;01mreturn\u001b[39;00m \u001b[38;5;28mself\u001b[39m\u001b[38;5;241m.\u001b[39m_values[label]\n\u001b[1;32m   1068\u001b[0m \u001b[38;5;66;03m# Similar to Index.get_value, but we do not fall back to positional\u001b[39;00m\n\u001b[0;32m-> 1069\u001b[0m loc \u001b[38;5;241m=\u001b[39m \u001b[38;5;28;43mself\u001b[39;49m\u001b[38;5;241;43m.\u001b[39;49m\u001b[43mindex\u001b[49m\u001b[38;5;241;43m.\u001b[39;49m\u001b[43mget_loc\u001b[49m\u001b[43m(\u001b[49m\u001b[43mlabel\u001b[49m\u001b[43m)\u001b[49m\n\u001b[1;32m   1070\u001b[0m \u001b[38;5;28;01mreturn\u001b[39;00m \u001b[38;5;28mself\u001b[39m\u001b[38;5;241m.\u001b[39mindex\u001b[38;5;241m.\u001b[39m_get_values_for_loc(\u001b[38;5;28mself\u001b[39m, loc, label)\n",
      "File \u001b[0;32m/opt/anaconda3/lib/python3.9/site-packages/pandas/core/indexes/range.py:389\u001b[0m, in \u001b[0;36mRangeIndex.get_loc\u001b[0;34m(self, key, method, tolerance)\u001b[0m\n\u001b[1;32m    387\u001b[0m             \u001b[38;5;28;01mraise\u001b[39;00m \u001b[38;5;167;01mKeyError\u001b[39;00m(key) \u001b[38;5;28;01mfrom\u001b[39;00m \u001b[38;5;21;01merr\u001b[39;00m\n\u001b[1;32m    388\u001b[0m     \u001b[38;5;28mself\u001b[39m\u001b[38;5;241m.\u001b[39m_check_indexing_error(key)\n\u001b[0;32m--> 389\u001b[0m     \u001b[38;5;28;01mraise\u001b[39;00m \u001b[38;5;167;01mKeyError\u001b[39;00m(key)\n\u001b[1;32m    390\u001b[0m \u001b[38;5;28;01mreturn\u001b[39;00m \u001b[38;5;28msuper\u001b[39m()\u001b[38;5;241m.\u001b[39mget_loc(key, method\u001b[38;5;241m=\u001b[39mmethod, tolerance\u001b[38;5;241m=\u001b[39mtolerance)\n",
      "\u001b[0;31mKeyError\u001b[0m: 'Happiness Score'"
     ]
    }
   ],
   "source": [
    "# Reshape the variables into NumPy arrays and put them into separate objects.\n",
    "X = df2['Happiness Score'].values.reshape(-1,1)\n",
    "y = df2['Economy (GDP per Capita)'].values.reshape(-1,1)"
   ]
  },
  {
   "cell_type": "code",
   "execution_count": 98,
   "id": "78484a54",
   "metadata": {},
   "outputs": [
    {
     "data": {
      "text/plain": [
       "array([[6.983     ],\n",
       "       [6.81      ],\n",
       "       [6.67      ],\n",
       "       [6.574     ],\n",
       "       [6.485     ],\n",
       "       [6.477     ],\n",
       "       [6.269     ],\n",
       "       [5.975     ],\n",
       "       [5.89      ],\n",
       "       [5.878     ],\n",
       "       [5.824     ],\n",
       "       [6.952     ],\n",
       "       [6.705     ],\n",
       "       [6.65      ],\n",
       "       [6.545     ],\n",
       "       [6.481     ],\n",
       "       [6.269     ],\n",
       "       [6.084     ],\n",
       "       [5.976     ],\n",
       "       [5.822     ],\n",
       "       [5.743     ],\n",
       "       [5.538     ],\n",
       "       [6.65199995],\n",
       "       [6.63500023],\n",
       "       [6.59899998],\n",
       "       [6.454     ],\n",
       "       [6.35699987],\n",
       "       [6.0079999 ],\n",
       "       [5.82299995],\n",
       "       [5.71500015],\n",
       "       [5.49300003],\n",
       "       [5.25      ],\n",
       "       [6.476     ],\n",
       "       [6.419     ],\n",
       "       [6.388     ],\n",
       "       [6.379     ],\n",
       "       [6.26      ],\n",
       "       [5.973     ],\n",
       "       [5.752     ],\n",
       "       [5.681     ],\n",
       "       [5.663     ],\n",
       "       [4.806     ],\n",
       "       [6.476     ],\n",
       "       [6.419     ],\n",
       "       [6.388     ],\n",
       "       [6.379     ],\n",
       "       [6.26      ],\n",
       "       [5.973     ],\n",
       "       [5.752     ],\n",
       "       [5.681     ],\n",
       "       [5.663     ],\n",
       "       [4.806     ]])"
      ]
     },
     "execution_count": 98,
     "metadata": {},
     "output_type": "execute_result"
    }
   ],
   "source": [
    "X"
   ]
  },
  {
   "cell_type": "code",
   "execution_count": 99,
   "id": "b8e754f8",
   "metadata": {},
   "outputs": [
    {
     "data": {
      "text/plain": [
       "array([[0.69702   ],\n",
       "       [0.72052   ],\n",
       "       [0.85857   ],\n",
       "       [0.78723   ],\n",
       "       [0.8116    ],\n",
       "       [0.69077   ],\n",
       "       [0.6082    ],\n",
       "       [0.79075   ],\n",
       "       [0.5392    ],\n",
       "       [0.66098   ],\n",
       "       [0.73017   ],\n",
       "       [0.61415   ],\n",
       "       [0.81883   ],\n",
       "       [0.69711   ],\n",
       "       [0.72183   ],\n",
       "       [0.59659   ],\n",
       "       [0.50933   ],\n",
       "       [0.61904   ],\n",
       "       [0.68613   ],\n",
       "       [0.4697    ],\n",
       "       [0.62994   ],\n",
       "       [0.58295   ],\n",
       "       [0.8194797 ],\n",
       "       [0.61655235],\n",
       "       [0.69513708],\n",
       "       [0.71921682],\n",
       "       [0.59502792],\n",
       "       [0.68563622],\n",
       "       [0.47363025],\n",
       "       [0.63016611],\n",
       "       [0.57925069],\n",
       "       [0.61714423],\n",
       "       [0.808     ],\n",
       "       [0.675     ],\n",
       "       [0.744     ],\n",
       "       [0.771     ],\n",
       "       [0.635     ],\n",
       "       [0.736     ],\n",
       "       [0.508     ],\n",
       "       [0.615     ],\n",
       "       [0.674     ],\n",
       "       [0.657     ],\n",
       "       [0.808     ],\n",
       "       [0.675     ],\n",
       "       [0.744     ],\n",
       "       [0.771     ],\n",
       "       [0.635     ],\n",
       "       [0.736     ],\n",
       "       [0.508     ],\n",
       "       [0.615     ],\n",
       "       [0.674     ],\n",
       "       [0.657     ]])"
      ]
     },
     "execution_count": 99,
     "metadata": {},
     "output_type": "execute_result"
    }
   ],
   "source": [
    "y"
   ]
  },
  {
   "cell_type": "code",
   "execution_count": 100,
   "id": "2f4f4f7a",
   "metadata": {},
   "outputs": [],
   "source": [
    "# Split data into a training set and a test set.  Using test_train_split\n",
    "X_train,X_test,y_train,y_test = train_test_split(X,y,test_size = 0.3,random_state = 0)"
   ]
  },
  {
   "cell_type": "code",
   "execution_count": 101,
   "id": "bfc2ab89",
   "metadata": {},
   "outputs": [],
   "source": [
    "### 4. Regression Analysis\n",
    "\n",
    "# Create regression object\n",
    "regression = LinearRegression()"
   ]
  },
  {
   "cell_type": "code",
   "execution_count": 102,
   "id": "3a5d36a3",
   "metadata": {},
   "outputs": [
    {
     "data": {
      "text/plain": [
       "LinearRegression()"
      ]
     },
     "execution_count": 102,
     "metadata": {},
     "output_type": "execute_result"
    }
   ],
   "source": [
    "# Fit the regression to the training set of each variable.  This trains the model.\n",
    "regression.fit(X_train, y_train)"
   ]
  },
  {
   "cell_type": "code",
   "execution_count": 103,
   "id": "5776541f",
   "metadata": {},
   "outputs": [],
   "source": [
    "# Apply model to x_test data to predict y values\n",
    "y_predicted = regression.predict(X_test)"
   ]
  },
  {
   "cell_type": "code",
   "execution_count": 104,
   "id": "a36e5a68",
   "metadata": {},
   "outputs": [
    {
     "data": {
      "image/png": "[encoded data removed]",
      "text/plain": [
       "<Figure size 432x288 with 1 Axes>"
      ]
     },
     "metadata": {
      "needs_background": "light"
     },
     "output_type": "display_data"
    }
   ],
   "source": [
    "# Create a plot that shows the regression line from the model on the test set.\n",
    "plot_test = plt\n",
    "plot_test.scatter(X_test, y_test, color='gray', s = 15)\n",
    "plot_test.plot(X_test, y_predicted, color='red', linewidth =3)\n",
    "plot_test.title('Happiness Score vs Economy (GDP per Capita) (Test set)')\n",
    "plot_test.xlabel('Happiness Score')\n",
    "plot_test.ylabel('Economy (GDP per Capita)')\n",
    "plot_test.show()"
   ]
  },
  {
   "cell_type": "code",
   "execution_count": 105,
   "id": "bd5c6d2d",
   "metadata": {},
   "outputs": [],
   "source": [
    "# Check the slope, MSE and R2 score.\n",
    "# Create objects that contain the model summary statistics.\n",
    "rmse = mean_squared_error(y_test, y_predicted)\n",
    "r2 = r2_score(y_test, y_predicted)"
   ]
  },
  {
   "cell_type": "code",
   "execution_count": 106,
   "id": "3cfa9aed",
   "metadata": {},
   "outputs": [
    {
     "name": "stdout",
     "output_type": "stream",
     "text": [
      "Slope: [[0.06762482]]\n",
      "Mean squared error:  0.009839997882529383\n",
      "R2 score:  0.10828625508274592\n"
     ]
    }
   ],
   "source": [
    "# Print the model summary statistics. This is where you evaluate the performance of the model.\n",
    "\n",
    "print('Slope:' ,regression.coef_)\n",
    "print('Mean squared error: ', rmse)\n",
    "print('R2 score: ', r2)"
   ]
  },
  {
   "cell_type": "markdown",
   "id": "b58c73ec",
   "metadata": {},
   "source": [
    "### This is what I expected, since many people in South America are not wealthy, as the GDP goes down, happiness increases. This is why I suspected (incorrectly) family to have a greater imapct on happiness in South America. This begs the question, what then is the biggest factor that influences happiness in South America if it is not GDP or Family?"
   ]
  },
  {
   "cell_type": "markdown",
   "id": "03578bfb",
   "metadata": {},
   "source": [
    "### Hypothesis 2: Health plays a larger fctor in happiness than GDP or Family"
   ]
  },
  {
   "cell_type": "code",
   "execution_count": 107,
   "id": "2b85405b",
   "metadata": {},
   "outputs": [
    {
     "data": {
      "image/png": "[encoded data removed]",
      "text/plain": [
       "<Figure size 432x288 with 1 Axes>"
      ]
     },
     "metadata": {
      "needs_background": "light"
     },
     "output_type": "display_data"
    }
   ],
   "source": [
    "# Create a scatterplot using matplotlib for another look at how the chosen variables plot against each other.\n",
    "\n",
    "df.plot(x = 'Happiness Score', y='Health (Life Expectancy)',style='o') # The style option creates a scatterplot; without it, we only have lines.\n",
    "plt.title('Happiness Score vs Health (Life Expectancy)')  \n",
    "plt.xlabel('Happiness Score')  \n",
    "plt.ylabel('Health (Life Expectancy)')  \n",
    "plt.show()"
   ]
  },
  {
   "cell_type": "code",
   "execution_count": 108,
   "id": "8b905e6e",
   "metadata": {},
   "outputs": [],
   "source": [
    "# Reshape the variables into NumPy arrays and put them into separate objects.\n",
    "\n",
    "X = df['Happiness Score'].values.reshape(-1,1)\n",
    "y = df['Health (Life Expectancy)'].values.reshape(-1,1)"
   ]
  },
  {
   "cell_type": "code",
   "execution_count": 109,
   "id": "4be68183",
   "metadata": {},
   "outputs": [
    {
     "data": {
      "text/plain": [
       "array([[6.983     ],\n",
       "       [6.81      ],\n",
       "       [6.67      ],\n",
       "       [6.574     ],\n",
       "       [6.485     ],\n",
       "       [6.477     ],\n",
       "       [6.269     ],\n",
       "       [5.975     ],\n",
       "       [5.89      ],\n",
       "       [5.878     ],\n",
       "       [5.824     ],\n",
       "       [6.952     ],\n",
       "       [6.705     ],\n",
       "       [6.65      ],\n",
       "       [6.545     ],\n",
       "       [6.481     ],\n",
       "       [6.269     ],\n",
       "       [6.084     ],\n",
       "       [5.976     ],\n",
       "       [5.822     ],\n",
       "       [5.743     ],\n",
       "       [5.538     ],\n",
       "       [6.65199995],\n",
       "       [6.63500023],\n",
       "       [6.59899998],\n",
       "       [6.454     ],\n",
       "       [6.35699987],\n",
       "       [6.0079999 ],\n",
       "       [5.82299995],\n",
       "       [5.71500015],\n",
       "       [5.49300003],\n",
       "       [5.25      ],\n",
       "       [6.476     ],\n",
       "       [6.419     ],\n",
       "       [6.388     ],\n",
       "       [6.379     ],\n",
       "       [6.26      ],\n",
       "       [5.973     ],\n",
       "       [5.752     ],\n",
       "       [5.681     ],\n",
       "       [5.663     ],\n",
       "       [4.806     ],\n",
       "       [6.476     ],\n",
       "       [6.419     ],\n",
       "       [6.388     ],\n",
       "       [6.379     ],\n",
       "       [6.26      ],\n",
       "       [5.973     ],\n",
       "       [5.752     ],\n",
       "       [5.681     ],\n",
       "       [5.663     ],\n",
       "       [4.806     ]])"
      ]
     },
     "execution_count": 109,
     "metadata": {},
     "output_type": "execute_result"
    }
   ],
   "source": [
    "X"
   ]
  },
  {
   "cell_type": "code",
   "execution_count": 110,
   "id": "3d3893fc",
   "metadata": {},
   "outputs": [
    {
     "data": {
      "text/plain": [
       "array([[0.69702   ],\n",
       "       [0.72052   ],\n",
       "       [0.85857   ],\n",
       "       [0.78723   ],\n",
       "       [0.8116    ],\n",
       "       [0.69077   ],\n",
       "       [0.6082    ],\n",
       "       [0.79075   ],\n",
       "       [0.5392    ],\n",
       "       [0.66098   ],\n",
       "       [0.73017   ],\n",
       "       [0.61415   ],\n",
       "       [0.81883   ],\n",
       "       [0.69711   ],\n",
       "       [0.72183   ],\n",
       "       [0.59659   ],\n",
       "       [0.50933   ],\n",
       "       [0.61904   ],\n",
       "       [0.68613   ],\n",
       "       [0.4697    ],\n",
       "       [0.62994   ],\n",
       "       [0.58295   ],\n",
       "       [0.8194797 ],\n",
       "       [0.61655235],\n",
       "       [0.69513708],\n",
       "       [0.71921682],\n",
       "       [0.59502792],\n",
       "       [0.68563622],\n",
       "       [0.47363025],\n",
       "       [0.63016611],\n",
       "       [0.57925069],\n",
       "       [0.61714423],\n",
       "       [0.808     ],\n",
       "       [0.675     ],\n",
       "       [0.744     ],\n",
       "       [0.771     ],\n",
       "       [0.635     ],\n",
       "       [0.736     ],\n",
       "       [0.508     ],\n",
       "       [0.615     ],\n",
       "       [0.674     ],\n",
       "       [0.657     ],\n",
       "       [0.808     ],\n",
       "       [0.675     ],\n",
       "       [0.744     ],\n",
       "       [0.771     ],\n",
       "       [0.635     ],\n",
       "       [0.736     ],\n",
       "       [0.508     ],\n",
       "       [0.615     ],\n",
       "       [0.674     ],\n",
       "       [0.657     ]])"
      ]
     },
     "execution_count": 110,
     "metadata": {},
     "output_type": "execute_result"
    }
   ],
   "source": [
    "y"
   ]
  },
  {
   "cell_type": "code",
   "execution_count": 111,
   "id": "640ea292",
   "metadata": {},
   "outputs": [],
   "source": [
    "# Split data into a training set and a test set.  Using test_train_split\n",
    "X_train, X_test, y_train, y_test = train_test_split(X,y,test_size = 0.3, random_state =0)"
   ]
  },
  {
   "cell_type": "markdown",
   "id": "e5e8a323",
   "metadata": {},
   "source": [
    "#### Regression Analysis"
   ]
  },
  {
   "cell_type": "code",
   "execution_count": 112,
   "id": "e17801cf",
   "metadata": {},
   "outputs": [
    {
     "data": {
      "text/plain": [
       "LinearRegression()"
      ]
     },
     "execution_count": 112,
     "metadata": {},
     "output_type": "execute_result"
    }
   ],
   "source": [
    "regression.fit(X_train, y_train)"
   ]
  },
  {
   "cell_type": "code",
   "execution_count": 113,
   "id": "869263e2",
   "metadata": {},
   "outputs": [],
   "source": [
    "y_predicted = regression.predict(X_test)"
   ]
  },
  {
   "cell_type": "code",
   "execution_count": 114,
   "id": "b414f8c5",
   "metadata": {},
   "outputs": [
    {
     "data": {
      "image/png": "[encoded data removed]",
      "text/plain": [
       "<Figure size 432x288 with 1 Axes>"
      ]
     },
     "metadata": {
      "needs_background": "light"
     },
     "output_type": "display_data"
    }
   ],
   "source": [
    "# Create a plot that shows the regression line from the model on the test set.\n",
    "plot_test = plt\n",
    "plot_test.scatter(X_test, y_test, color='blue', s = 15)\n",
    "plot_test.plot(X_test, y_predicted, color='red', linewidth =3)\n",
    "plot_test.title('Happiness Score vs Health (Life Expectancy) (Test set)')\n",
    "plot_test.xlabel('Happiness Score')\n",
    "plot_test.ylabel('Health (Life Expectancy)')\n",
    "plot_test.show()"
   ]
  },
  {
   "cell_type": "code",
   "execution_count": 115,
   "id": "7d27366a",
   "metadata": {},
   "outputs": [],
   "source": [
    "# Check the slope, MSE and R2 score.\n",
    "# Create objects that contain the model summary statistics.\n",
    "rmse = mean_squared_error(y_test, y_predicted)\n",
    "r2 = r2_score(y_test, y_predicted)"
   ]
  },
  {
   "cell_type": "code",
   "execution_count": 116,
   "id": "dd7af6c1",
   "metadata": {},
   "outputs": [
    {
     "name": "stdout",
     "output_type": "stream",
     "text": [
      "Slope: [[0.06762482]]\n",
      "Mean squared error:  0.009839997882529383\n",
      "R2 score:  0.10828625508274592\n"
     ]
    }
   ],
   "source": [
    "# Check summary stats\n",
    "print('Slope:' ,regression.coef_)\n",
    "print('Mean squared error: ', rmse)\n",
    "print('R2 score: ', r2)"
   ]
  },
  {
   "cell_type": "code",
   "execution_count": 117,
   "id": "b7fbf797",
   "metadata": {},
   "outputs": [
    {
     "data": {
      "text/html": [
       "<div>\n",
       "<style scoped>\n",
       "    .dataframe tbody tr th:only-of-type {\n",
       "        vertical-align: middle;\n",
       "    }\n",
       "\n",
       "    .dataframe tbody tr th {\n",
       "        vertical-align: top;\n",
       "    }\n",
       "\n",
       "    .dataframe thead th {\n",
       "        text-align: right;\n",
       "    }\n",
       "</style>\n",
       "<table border=\"1\" class=\"dataframe\">\n",
       "  <thead>\n",
       "    <tr style=\"text-align: right;\">\n",
       "      <th></th>\n",
       "      <th>Actual</th>\n",
       "      <th>Predicted</th>\n",
       "    </tr>\n",
       "  </thead>\n",
       "  <tbody>\n",
       "    <tr>\n",
       "      <th>0</th>\n",
       "      <td>1.227619</td>\n",
       "      <td>1.235150</td>\n",
       "    </tr>\n",
       "    <tr>\n",
       "      <th>1</th>\n",
       "      <td>1.330000</td>\n",
       "      <td>1.228830</td>\n",
       "    </tr>\n",
       "    <tr>\n",
       "      <th>2</th>\n",
       "      <td>1.039380</td>\n",
       "      <td>1.187576</td>\n",
       "    </tr>\n",
       "    <tr>\n",
       "      <th>3</th>\n",
       "      <td>1.468000</td>\n",
       "      <td>1.211342</td>\n",
       "    </tr>\n",
       "    <tr>\n",
       "      <th>4</th>\n",
       "      <td>1.124470</td>\n",
       "      <td>1.199459</td>\n",
       "    </tr>\n",
       "    <tr>\n",
       "      <th>5</th>\n",
       "      <td>1.507285</td>\n",
       "      <td>1.249056</td>\n",
       "    </tr>\n",
       "    <tr>\n",
       "      <th>6</th>\n",
       "      <td>1.249000</td>\n",
       "      <td>1.241893</td>\n",
       "    </tr>\n",
       "    <tr>\n",
       "      <th>7</th>\n",
       "      <td>1.331000</td>\n",
       "      <td>1.207634</td>\n",
       "    </tr>\n",
       "    <tr>\n",
       "      <th>8</th>\n",
       "      <td>1.402183</td>\n",
       "      <td>1.212648</td>\n",
       "    </tr>\n",
       "    <tr>\n",
       "      <th>9</th>\n",
       "      <td>1.208900</td>\n",
       "      <td>1.207255</td>\n",
       "    </tr>\n",
       "    <tr>\n",
       "      <th>10</th>\n",
       "      <td>0.974590</td>\n",
       "      <td>1.235108</td>\n",
       "    </tr>\n",
       "    <tr>\n",
       "      <th>11</th>\n",
       "      <td>1.284025</td>\n",
       "      <td>1.200217</td>\n",
       "    </tr>\n",
       "    <tr>\n",
       "      <th>12</th>\n",
       "      <td>1.431338</td>\n",
       "      <td>1.259296</td>\n",
       "    </tr>\n",
       "    <tr>\n",
       "      <th>13</th>\n",
       "      <td>1.218770</td>\n",
       "      <td>1.239701</td>\n",
       "    </tr>\n",
       "    <tr>\n",
       "      <th>14</th>\n",
       "      <td>1.331000</td>\n",
       "      <td>1.207634</td>\n",
       "    </tr>\n",
       "    <tr>\n",
       "      <th>15</th>\n",
       "      <td>1.474000</td>\n",
       "      <td>1.210036</td>\n",
       "    </tr>\n",
       "  </tbody>\n",
       "</table>\n",
       "</div>"
      ],
      "text/plain": [
       "      Actual  Predicted\n",
       "0   1.227619   1.235150\n",
       "1   1.330000   1.228830\n",
       "2   1.039380   1.187576\n",
       "3   1.468000   1.211342\n",
       "4   1.124470   1.199459\n",
       "5   1.507285   1.249056\n",
       "6   1.249000   1.241893\n",
       "7   1.331000   1.207634\n",
       "8   1.402183   1.212648\n",
       "9   1.208900   1.207255\n",
       "10  0.974590   1.235108\n",
       "11  1.284025   1.200217\n",
       "12  1.431338   1.259296\n",
       "13  1.218770   1.239701\n",
       "14  1.331000   1.207634\n",
       "15  1.474000   1.210036"
      ]
     },
     "execution_count": 117,
     "metadata": {},
     "output_type": "execute_result"
    }
   ],
   "source": [
    "# Create a dataframe comparing the actual and predicted values of y.\n",
    "\n",
    "data1 = pd.DataFrame({'Actual': y_test.flatten(), 'Predicted': y_predicted.flatten()})\n",
    "data.head(30)"
   ]
  },
  {
   "cell_type": "markdown",
   "id": "bf672c7b",
   "metadata": {},
   "source": [
    "### I think we found it!! Health is a determining marker of happiness!! This makes sense as many people are manual laborers and must be in good health to provide for their families. The MSE is small, and the slope is postive 0.1 indidcating a positive correlation between health and happiness."
   ]
  },
  {
   "cell_type": "markdown",
   "id": "19424117",
   "metadata": {},
   "source": [
    "### What about trust in government?"
   ]
  },
  {
   "cell_type": "code",
   "execution_count": 118,
   "id": "9b853eb8",
   "metadata": {},
   "outputs": [],
   "source": [
    "df3=df['Trust (Government Corruption)']"
   ]
  },
  {
   "cell_type": "code",
   "execution_count": 119,
   "id": "a2e3e9f9",
   "metadata": {},
   "outputs": [
    {
     "data": {
      "text/plain": [
       "0     0.175210\n",
       "1     0.110690\n",
       "2     0.128690\n",
       "3     0.084840\n",
       "4     0.245580\n",
       "5     0.051200\n",
       "6     0.136330\n",
       "7     0.180900\n",
       "8     0.088000\n",
       "9     0.082420\n",
       "10    0.059890\n",
       "11    0.141660\n",
       "12    0.114510\n",
       "13    0.072960\n",
       "14    0.213940\n",
       "15    0.053990\n",
       "16    0.126920\n",
       "17    0.083040\n",
       "18    0.180370\n",
       "19    0.077460\n",
       "20    0.052920\n",
       "21    0.073960\n",
       "22    0.082288\n",
       "23    0.111093\n",
       "24    0.059740\n",
       "25    0.178062\n",
       "26    0.046669\n",
       "27    0.140135\n",
       "28    0.060478\n",
       "29    0.047049\n",
       "30    0.091066\n",
       "31    0.064491\n",
       "32    0.061000\n",
       "33    0.088000\n",
       "34    0.054000\n",
       "35    0.155000\n",
       "36    0.039000\n",
       "37    0.120000\n",
       "38    0.054000\n",
       "39    0.074000\n",
       "40    0.034000\n",
       "41    0.052000\n",
       "42    0.061000\n",
       "43    0.088000\n",
       "44    0.054000\n",
       "45    0.155000\n",
       "46    0.039000\n",
       "47    0.120000\n",
       "48    0.054000\n",
       "49    0.074000\n",
       "50    0.034000\n",
       "51    0.052000\n",
       "Name: Trust (Government Corruption), dtype: float64"
      ]
     },
     "execution_count": 119,
     "metadata": {},
     "output_type": "execute_result"
    }
   ],
   "source": [
    "df3"
   ]
  },
  {
   "cell_type": "code",
   "execution_count": 125,
   "id": "50d73350",
   "metadata": {},
   "outputs": [
    {
     "data": {
      "image/png": "[encoded data removed]",
      "text/plain": [
       "<Figure size 432x288 with 1 Axes>"
      ]
     },
     "metadata": {
      "needs_background": "light"
     },
     "output_type": "display_data"
    }
   ],
   "source": [
    "# Create a scatterplot using matplotlib for another look at how the chosen variables plot against each other.\n",
    "\n",
    "df3.plot(x = 'Happiness Score', y='Trust (Government Corruption)',style='o') # The style option creates a scatterplot; without it, we only have lines.\n",
    "plt.title('Happiness Score vs Trust (Government Corruption)')  \n",
    "plt.xlabel('Happiness Score')  \n",
    "plt.ylabel('Trust (Government Corruption)')  \n",
    "plt.show()"
   ]
  },
  {
   "cell_type": "code",
   "execution_count": 128,
   "id": "a53be026",
   "metadata": {},
   "outputs": [],
   "source": [
    "# Reshape the variables into NumPy arrays and put them into separate objects.\n",
    "\n",
    "X = df['Happiness Score'].values.reshape(-1,1)\n",
    "y = df['Trust (Government Corruption)'].values.reshape(-1,1)"
   ]
  },
  {
   "cell_type": "code",
   "execution_count": 129,
   "id": "f96dd50b",
   "metadata": {},
   "outputs": [],
   "source": [
    "# Split data into a training set and a test set.\n",
    "\n",
    "X_train, X_test, y_train, y_test = train_test_split(X, y, test_size=0.3, random_state=0)"
   ]
  },
  {
   "cell_type": "code",
   "execution_count": 131,
   "id": "d0e0cf97",
   "metadata": {},
   "outputs": [
    {
     "data": {
      "text/plain": [
       "LinearRegression()"
      ]
     },
     "execution_count": 131,
     "metadata": {},
     "output_type": "execute_result"
    }
   ],
   "source": [
    "# Fit the regression object onto the training set.\n",
    "\n",
    "regression.fit(X_train, y_train)"
   ]
  },
  {
   "cell_type": "code",
   "execution_count": 132,
   "id": "07604e01",
   "metadata": {},
   "outputs": [],
   "source": [
    "# Predict the values of y using X.\n",
    "\n",
    "y_predicted = regression.predict(X_test)"
   ]
  },
  {
   "cell_type": "code",
   "execution_count": 134,
   "id": "92fb8fce",
   "metadata": {},
   "outputs": [
    {
     "data": {
      "image/png": "[encoded data removed]",
      "text/plain": [
       "<Figure size 432x288 with 1 Axes>"
      ]
     },
     "metadata": {
      "needs_background": "light"
     },
     "output_type": "display_data"
    }
   ],
   "source": [
    "# Create a plot that shows the regression line from the model on the test set.\n",
    "\n",
    "plot_test = plt\n",
    "plot_test.scatter(X_test, y_test, color='gray', s = 15)\n",
    "plot_test.plot(X_test, y_predicted, color='red', linewidth =3)\n",
    "plot_test.title('Happiness Score vs Trust (Government Corruption) (Test set)')\n",
    "plot_test.xlabel('Happiness Score')\n",
    "plot_test.ylabel('Trust (Government Corruption)')\n",
    "plot_test.show()"
   ]
  },
  {
   "cell_type": "code",
   "execution_count": 135,
   "id": "7c8f4a09",
   "metadata": {},
   "outputs": [
    {
     "name": "stdout",
     "output_type": "stream",
     "text": [
      "Slope: [[0.03761894]]\n",
      "Mean squared error:  0.0023102088558774186\n",
      "R2 score:  0.10754259573202607\n"
     ]
    }
   ],
   "source": [
    "# Create objects that contain the model summary statistics.\n",
    "\n",
    "rmse = mean_squared_error(y_test, y_predicted) # This is the mean squared error\n",
    "r2 = r2_score(y_test, y_predicted) # This is the R2 score. \n",
    "\n",
    "# Print the model summary statistics. This is where you evaluate the performance of the model.\n",
    "\n",
    "print('Slope:' ,regression.coef_)\n",
    "print('Mean squared error: ', rmse)\n",
    "print('R2 score: ', r2)"
   ]
  },
  {
   "cell_type": "markdown",
   "id": "a209783f",
   "metadata": {},
   "source": [
    "### There is a postive relationship between the happiness score and the trust in government in South America. The MSE is small, and the R2 is 0.1 so this means it is a good model for this prediction."
   ]
  }
 ],
 "metadata": {
  "kernelspec": {
   "display_name": "Python 3 (ipykernel)",
   "language": "python",
   "name": "python3"
  },
  "language_info": {
   "codemirror_mode": {
    "name": "ipython",
    "version": 3
   },
   "file_extension": ".py",
   "mimetype": "text/x-python",
   "name": "python",
   "nbconvert_exporter": "python",
   "pygments_lexer": "ipython3",
   "version": "3.9.12"
  }
 },
 "nbformat": 4,
 "nbformat_minor": 5
}
